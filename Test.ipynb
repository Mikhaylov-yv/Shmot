{
 "cells": [
  {
   "cell_type": "code",
   "execution_count": 25,
   "metadata": {},
   "outputs": [],
   "source": [
    "import vk_api\n",
    "import pandas as pd \n",
    "from my_data import MyVKData_O"
   ]
  },
  {
   "cell_type": "code",
   "execution_count": 39,
   "metadata": {},
   "outputs": [],
   "source": [
    "vk_session = vk_api.VkApi(token=MyVKData_O.TOKEN)\n",
    "vk = vk_session.get_api()\n",
    "vk_session_wall = vk_api.VkApi(login=MyVKData_O.LOGIN, password=MyVKData_O.GET_PASSWORD)\n",
    "vk_session_wall.auth()\n",
    "vk_wall = vk_session_wall.get_api()"
   ]
  },
  {
   "cell_type": "code",
   "execution_count": 42,
   "metadata": {},
   "outputs": [],
   "source": [
    "def wall_post(text,url,vk):\n",
    "    v = 5.92\n",
    "    vk.wall.post(owner_id='-187858877',\n",
    "                 message=text,\n",
    "                 attachment= url,v=v)"
   ]
  },
  {
   "cell_type": "code",
   "execution_count": 26,
   "metadata": {},
   "outputs": [],
   "source": [
    "df_nev_fiilt = pd.read_pickle('df_nev_fiilt.pkl')"
   ]
  },
  {
   "cell_type": "code",
   "execution_count": 28,
   "metadata": {},
   "outputs": [
    {
     "data": {
      "text/html": [
       "<div>\n",
       "<style scoped>\n",
       "    .dataframe tbody tr th:only-of-type {\n",
       "        vertical-align: middle;\n",
       "    }\n",
       "\n",
       "    .dataframe tbody tr th {\n",
       "        vertical-align: top;\n",
       "    }\n",
       "\n",
       "    .dataframe thead th {\n",
       "        text-align: right;\n",
       "    }\n",
       "</style>\n",
       "<table border=\"1\" class=\"dataframe\">\n",
       "  <thead>\n",
       "    <tr style=\"text-align: right;\">\n",
       "      <th></th>\n",
       "      <th>Наименование</th>\n",
       "      <th>Фирма</th>\n",
       "      <th>Цена</th>\n",
       "      <th>Скидка</th>\n",
       "      <th>Ссылка</th>\n",
       "      <th>Размеры</th>\n",
       "    </tr>\n",
       "  </thead>\n",
       "  <tbody>\n",
       "    <tr>\n",
       "      <th>0</th>\n",
       "      <td>Пуховик</td>\n",
       "      <td>Anta</td>\n",
       "      <td>4280</td>\n",
       "      <td>0.451212</td>\n",
       "      <td>https://www.lamoda.ru/p/an225emgmbh3/clothes-a...</td>\n",
       "      <td>48/50; 56/58</td>\n",
       "    </tr>\n",
       "    <tr>\n",
       "      <th>1</th>\n",
       "      <td>Пуховик Oversize 500 Down Jacket</td>\n",
       "      <td>PUMA</td>\n",
       "      <td>19110</td>\n",
       "      <td>0.150289</td>\n",
       "      <td>https://www.lamoda.ru/p/pu053emfrie7/clothes-p...</td>\n",
       "      <td>48/50; 50/52</td>\n",
       "    </tr>\n",
       "    <tr>\n",
       "      <th>0</th>\n",
       "      <td>Пуховик Streetstyle 480 Hooded Down Jacket</td>\n",
       "      <td>PUMA</td>\n",
       "      <td>13590</td>\n",
       "      <td>0.200118</td>\n",
       "      <td>https://www.lamoda.ru/p/pu053emfrie1/clothes-p...</td>\n",
       "      <td>50/52; 54/56</td>\n",
       "    </tr>\n",
       "    <tr>\n",
       "      <th>1</th>\n",
       "      <td>Пуховик Basketball KT A-PROOF RAIN I</td>\n",
       "      <td>Anta</td>\n",
       "      <td>5843</td>\n",
       "      <td>0.350056</td>\n",
       "      <td>https://www.lamoda.ru/p/mp002xm243il/clothes-a...</td>\n",
       "      <td>50/52; 54/56; 58/60</td>\n",
       "    </tr>\n",
       "    <tr>\n",
       "      <th>3</th>\n",
       "      <td>Пуховик ARCTIC PATROL PARKA</td>\n",
       "      <td>Helly Hansen</td>\n",
       "      <td>41240</td>\n",
       "      <td>0.250045</td>\n",
       "      <td>https://www.lamoda.ru/p/he012emfqwq6/clothes-h...</td>\n",
       "      <td>50/52; 52/54; 54/56</td>\n",
       "    </tr>\n",
       "  </tbody>\n",
       "</table>\n",
       "</div>"
      ],
      "text/plain": [
       "                                 Наименование         Фирма   Цена    Скидка  \\\n",
       "0                                     Пуховик          Anta   4280  0.451212   \n",
       "1            Пуховик Oversize 500 Down Jacket          PUMA  19110  0.150289   \n",
       "0  Пуховик Streetstyle 480 Hooded Down Jacket          PUMA  13590  0.200118   \n",
       "1        Пуховик Basketball KT A-PROOF RAIN I          Anta   5843  0.350056   \n",
       "3                 Пуховик ARCTIC PATROL PARKA  Helly Hansen  41240  0.250045   \n",
       "\n",
       "                                              Ссылка              Размеры  \n",
       "0  https://www.lamoda.ru/p/an225emgmbh3/clothes-a...         48/50; 56/58  \n",
       "1  https://www.lamoda.ru/p/pu053emfrie7/clothes-p...         48/50; 50/52  \n",
       "0  https://www.lamoda.ru/p/pu053emfrie1/clothes-p...         50/52; 54/56  \n",
       "1  https://www.lamoda.ru/p/mp002xm243il/clothes-a...  50/52; 54/56; 58/60  \n",
       "3  https://www.lamoda.ru/p/he012emfqwq6/clothes-h...  50/52; 52/54; 54/56  "
      ]
     },
     "execution_count": 28,
     "metadata": {},
     "output_type": "execute_result"
    }
   ],
   "source": [
    "df_nev_fiilt.head()"
   ]
  },
  {
   "cell_type": "code",
   "execution_count": 37,
   "metadata": {},
   "outputs": [
    {
     "data": {
      "text/plain": [
       "[['Пуховик APOLLO JACKET',\n",
       "  'Quiksilver',\n",
       "  '11190',\n",
       "  0.500424126077057,\n",
       "  'https://www.lamoda.ru/p/qu192emvoc57/clothes-quiksilver-pukhovik/',\n",
       "  '46/48; 50/52'],\n",
       " ['Пуховик',\n",
       "  'Anta',\n",
       "  '4280',\n",
       "  0.4512116938068983,\n",
       "  'https://www.lamoda.ru/p/an225emgmbh3/clothes-anta-pukhovik/',\n",
       "  '48/50; 56/58'],\n",
       " ['Пуховик Basketball KT A-PROOF RAIN I',\n",
       "  'Anta',\n",
       "  '5843',\n",
       "  0.35005561735261403,\n",
       "  'https://www.lamoda.ru/p/mp002xm243il/clothes-anta-pukhovik/',\n",
       "  '50/52; 54/56; 58/60'],\n",
       " ['Пуховик Basketball KT A-PROOF RAIN I',\n",
       "  'Anta',\n",
       "  '5843',\n",
       "  0.35005561735261403,\n",
       "  'https://www.lamoda.ru/p/mp002xm243ip/clothes-anta-pukhovik/',\n",
       "  '48/50; 50/52; 52/54; 54/56'],\n",
       " ['Пуховик',\n",
       "  'EA7',\n",
       "  '11330',\n",
       "  0.30057410951293295,\n",
       "  'https://www.lamoda.ru/p/ea002emfxfk1/clothes-ea7-pukhovik/',\n",
       "  '44/46; 46/48; 48/50; 50/52; 52/54; 54/56; 56/58'],\n",
       " ['Пуховик UA Iso Down Sweater',\n",
       "  'Under Armour',\n",
       "  '11540',\n",
       "  0.30018192844147973,\n",
       "  'https://www.lamoda.ru/p/un001embvch0/clothes-underarmour-pukhovik/',\n",
       "  '46/48; 48/50; 50/52; 52/54; 54/56'],\n",
       " ['Пуховик UA Iso Down Sweater',\n",
       "  'Under Armour',\n",
       "  '11540',\n",
       "  0.30018192844147973,\n",
       "  'https://www.lamoda.ru/p/un001embvch1/clothes-underarmour-pukhovik/',\n",
       "  '46/48; 48/50; 50/52'],\n",
       " ['Пуховик UA Iso Down Sweater',\n",
       "  'Under Armour',\n",
       "  '11540',\n",
       "  0.30018192844147973,\n",
       "  'https://www.lamoda.ru/p/un001embvch2/clothes-underarmour-pukhovik/',\n",
       "  '46/48; 48/50; 50/52; 52/54; 54/56'],\n",
       " ['Пуховик Angaros II',\n",
       "  'Regatta',\n",
       "  '10870',\n",
       "  0.25029312366370093,\n",
       "  'https://www.lamoda.ru/p/re036emfqtu4/clothes-regatta-pukhovik/',\n",
       "  '50; 52/54; 56'],\n",
       " ['Пуховик VERGLAS HOODED DOWN INSULATOR',\n",
       "  'Helly Hansen',\n",
       "  '13490',\n",
       "  0.2501389660922735,\n",
       "  'https://www.lamoda.ru/p/he012emcjro1/clothes-hellyhansen-pukhovik/',\n",
       "  '46/48; 48/50; 50/52; 52/54; 54/56'],\n",
       " ['Пуховик ARCTIC PATROL PARKA',\n",
       "  'Helly Hansen',\n",
       "  '41240',\n",
       "  0.25004546281142026,\n",
       "  'https://www.lamoda.ru/p/he012emfqwq6/clothes-hellyhansen-pukhovik/',\n",
       "  '50/52; 52/54; 54/56'],\n",
       " ['Пуховик',\n",
       "  'EA7',\n",
       "  '26790',\n",
       "  0.20027463506373322,\n",
       "  'https://www.lamoda.ru/p/ea002emfxfj1/clothes-ea7-pukhovik/',\n",
       "  '48/50'],\n",
       " ['Пуховик PWRWarm packLITE HD 600 DOWN Jacket',\n",
       "  'PUMA',\n",
       "  '10390',\n",
       "  0.20015396458814472,\n",
       "  'https://www.lamoda.ru/p/pu053emfrid4/clothes-puma-pukhovik/',\n",
       "  '48/50'],\n",
       " ['Пуховик Streetstyle 480 Hooded Down Jacket',\n",
       "  'PUMA',\n",
       "  '13590',\n",
       "  0.20011771630370812,\n",
       "  'https://www.lamoda.ru/p/pu053emfrie1/clothes-puma-pukhovik/',\n",
       "  '50/52; 54/56'],\n",
       " ['Пуховик Sagene 3in1 Jkt',\n",
       "  'Bergans of Norway',\n",
       "  '33000',\n",
       "  0.1505791505791506,\n",
       "  'https://www.lamoda.ru/p/mp002xm1pznp/clothes-bergansofnorway-pukhovik/',\n",
       "  '48/50; 50/52'],\n",
       " ['Пуховик Oversize 500 Down Jacket',\n",
       "  'PUMA',\n",
       "  '19110',\n",
       "  0.1502890173410405,\n",
       "  'https://www.lamoda.ru/p/pu053emfrie7/clothes-puma-pukhovik/',\n",
       "  '48/50; 50/52'],\n",
       " ['Пуховик Oversize 500 Down Jacket',\n",
       "  'PUMA',\n",
       "  '19110',\n",
       "  0.1502890173410405,\n",
       "  'https://www.lamoda.ru/p/pu053emfrie6/clothes-puma-pukhovik/',\n",
       "  '48/50; 50/52; 52/54'],\n",
       " ['Пуховик TAN L DOWN COAT',\n",
       "  'adidas',\n",
       "  '16990',\n",
       "  0.1500750375187594,\n",
       "  'https://www.lamoda.ru/p/ad002emfkrs3/clothes-adidas-pukhovik/',\n",
       "  '48/50'],\n",
       " ['Пуховик',\n",
       "  'Icepeak',\n",
       "  '22760',\n",
       "  0.10035969801177913,\n",
       "  'https://www.lamoda.ru/p/ic647emhkpv3/clothes-icepeak-pukhovik/',\n",
       "  '46; 48'],\n",
       " ['Пуховик M DOWN HD JKT',\n",
       "  'ASICS',\n",
       "  '15290',\n",
       "  0.100058858151854,\n",
       "  'https://www.lamoda.ru/p/as455emfpsa7/clothes-asics-pukhovik/',\n",
       "  '46/48; 48/50; 50/52; 52/54; 54/56']]"
      ]
     },
     "execution_count": 37,
     "metadata": {},
     "output_type": "execute_result"
    }
   ],
   "source": [
    "df_nev_fiilt_sort = df_nev_fiilt.sort_values(['Скидка'], ascending = False).values.tolist()\n",
    "df_nev_fiilt_sort"
   ]
  },
  {
   "cell_type": "code",
   "execution_count": 79,
   "metadata": {},
   "outputs": [],
   "source": [
    "post_text = ''\n",
    "for rang in df_nev_fiilt_sort:\n",
    "    post_text = post_text + str(rang[0])+ ' ' + str(rang[1]) + ' ' + 'цена:' + str(rang[2])+ ' ссылка: ' +  str(rang[4]) + '\\n'"
   ]
  },
  {
   "cell_type": "code",
   "execution_count": 76,
   "metadata": {},
   "outputs": [],
   "source": [
    "wall_post(post_text,'', vk_wall)"
   ]
  },
  {
   "cell_type": "code",
   "execution_count": 75,
   "metadata": {},
   "outputs": [
    {
     "name": "stdout",
     "output_type": "stream",
     "text": [
      "Пуховик APOLLO JACKET Quiksilver цена:11190 ссылка: https://www.lamoda.ru/p/qu192emvoc57/clothes-quiksilver-pukhovik/\n",
      "Пуховик Anta цена:4280 ссылка: https://www.lamoda.ru/p/an225emgmbh3/clothes-anta-pukhovik/\n",
      "Пуховик Basketball KT A-PROOF RAIN I Anta цена:5843 ссылка: https://www.lamoda.ru/p/mp002xm243il/clothes-anta-pukhovik/\n",
      "Пуховик Basketball KT A-PROOF RAIN I Anta цена:5843 ссылка: https://www.lamoda.ru/p/mp002xm243ip/clothes-anta-pukhovik/\n",
      "Пуховик EA7 цена:11330 ссылка: https://www.lamoda.ru/p/ea002emfxfk1/clothes-ea7-pukhovik/\n",
      "Пуховик UA Iso Down Sweater Under Armour цена:11540 ссылка: https://www.lamoda.ru/p/un001embvch0/clothes-underarmour-pukhovik/\n",
      "Пуховик UA Iso Down Sweater Under Armour цена:11540 ссылка: https://www.lamoda.ru/p/un001embvch1/clothes-underarmour-pukhovik/\n",
      "Пуховик UA Iso Down Sweater Under Armour цена:11540 ссылка: https://www.lamoda.ru/p/un001embvch2/clothes-underarmour-pukhovik/\n",
      "Пуховик Angaros II Regatta цена:10870 ссылка: https://www.lamoda.ru/p/re036emfqtu4/clothes-regatta-pukhovik/\n",
      "Пуховик VERGLAS HOODED DOWN INSULATOR Helly Hansen цена:13490 ссылка: https://www.lamoda.ru/p/he012emcjro1/clothes-hellyhansen-pukhovik/\n",
      "Пуховик ARCTIC PATROL PARKA Helly Hansen цена:41240 ссылка: https://www.lamoda.ru/p/he012emfqwq6/clothes-hellyhansen-pukhovik/\n",
      "Пуховик EA7 цена:26790 ссылка: https://www.lamoda.ru/p/ea002emfxfj1/clothes-ea7-pukhovik/\n",
      "Пуховик PWRWarm packLITE HD 600 DOWN Jacket PUMA цена:10390 ссылка: https://www.lamoda.ru/p/pu053emfrid4/clothes-puma-pukhovik/\n",
      "Пуховик Streetstyle 480 Hooded Down Jacket PUMA цена:13590 ссылка: https://www.lamoda.ru/p/pu053emfrie1/clothes-puma-pukhovik/\n",
      "Пуховик Sagene 3in1 Jkt Bergans of Norway цена:33000 ссылка: https://www.lamoda.ru/p/mp002xm1pznp/clothes-bergansofnorway-pukhovik/\n",
      "Пуховик Oversize 500 Down Jacket PUMA цена:19110 ссылка: https://www.lamoda.ru/p/pu053emfrie7/clothes-puma-pukhovik/\n",
      "Пуховик Oversize 500 Down Jacket PUMA цена:19110 ссылка: https://www.lamoda.ru/p/pu053emfrie6/clothes-puma-pukhovik/\n",
      "Пуховик TAN L DOWN COAT adidas цена:16990 ссылка: https://www.lamoda.ru/p/ad002emfkrs3/clothes-adidas-pukhovik/\n",
      "Пуховик Icepeak цена:22760 ссылка: https://www.lamoda.ru/p/ic647emhkpv3/clothes-icepeak-pukhovik/\n",
      "Пуховик M DOWN HD JKT ASICS цена:15290 ссылка: https://www.lamoda.ru/p/as455emfpsa7/clothes-asics-pukhovik/\n",
      "\n"
     ]
    }
   ],
   "source": [
    "print(post_text)"
   ]
  },
  {
   "cell_type": "code",
   "execution_count": null,
   "metadata": {},
   "outputs": [],
   "source": []
  }
 ],
 "metadata": {
  "kernelspec": {
   "display_name": "Python 3",
   "language": "python",
   "name": "python3"
  },
  "language_info": {
   "codemirror_mode": {
    "name": "ipython",
    "version": 3
   },
   "file_extension": ".py",
   "mimetype": "text/x-python",
   "name": "python",
   "nbconvert_exporter": "python",
   "pygments_lexer": "ipython3",
   "version": "3.7.5rc1"
  },
  "toc": {
   "base_numbering": 1,
   "nav_menu": {},
   "number_sections": true,
   "sideBar": true,
   "skip_h1_title": false,
   "title_cell": "Table of Contents",
   "title_sidebar": "Contents",
   "toc_cell": false,
   "toc_position": {},
   "toc_section_display": true,
   "toc_window_display": false
  },
  "varInspector": {
   "cols": {
    "lenName": 16,
    "lenType": 16,
    "lenVar": 40
   },
   "kernels_config": {
    "python": {
     "delete_cmd_postfix": "",
     "delete_cmd_prefix": "del ",
     "library": "var_list.py",
     "varRefreshCmd": "print(var_dic_list())"
    },
    "r": {
     "delete_cmd_postfix": ") ",
     "delete_cmd_prefix": "rm(",
     "library": "var_list.r",
     "varRefreshCmd": "cat(var_dic_list()) "
    }
   },
   "types_to_exclude": [
    "module",
    "function",
    "builtin_function_or_method",
    "instance",
    "_Feature"
   ],
   "window_display": false
  }
 },
 "nbformat": 4,
 "nbformat_minor": 2
}
